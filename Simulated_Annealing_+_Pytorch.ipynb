{
  "nbformat": 4,
  "nbformat_minor": 0,
  "metadata": {
    "colab": {
      "name": "Simulated Annealing + Pytorch.ipynb",
      "provenance": [],
      "collapsed_sections": []
    },
    "kernelspec": {
      "name": "python3",
      "display_name": "Python 3"
    }
  },
  "cells": [
    {
      "cell_type": "markdown",
      "metadata": {
        "id": "-UQR5Jw7OFBP",
        "colab_type": "text"
      },
      "source": [
        "# *Assignment #1: Simulated Annealing and Sampling* - Evgeny Sorokin [BS16-DS2]\n",
        "### [S20] Practical Machine Learning & Deep Learning\n",
        "\n",
        "https://hackmd.io/@nomemm/Sy9f3N7-8\n",
        "\n",
        "### Algorithm\n",
        "\n",
        "#### Procedure\n",
        "\n",
        "The procedure for SA is very similar to the MH algorithm\n",
        "\n",
        "1. Sample initial $\\mathbf{x}_0$, set time step $t=0$\n",
        "2. Set initial temperature $T$\n",
        "3. Generate $\\mathbf{x}'$ from $g(\\mathbf{x}'|\\mathbf{x}_t)$\n",
        "4. Calculate acceptance ratio $\\alpha=\\frac{p^*(\\mathbf{x}')}{p^*(\\mathbf{\\mathbf{x}}_t)}$\n",
        "<!-- 4. Calculate $\\alpha = max(0, \\frac{L(x_t)-L(x')}{L(x_t)})$ (where L is the loss function). -->\n",
        "5. Generate $u\\sim U(0,1)$. If $u\\leq \\alpha$, accept the new state $x_{t+1}=x'$, otherwise propagate the old state. Pass $\\mathbf{x}_{t+1}$ to the output of the sampler\n",
        "6. Anneal temperature $T$\n",
        "7. Increment time step $t$\n",
        "8. Repeat from step 2 until cooled down\n",
        "\n",
        "The description and details of every step are given further. Refer to the block-schema of the method.\n",
        "\n",
        "![](https://i.imgur.com/yeSmAfg.png)\n"
      ]
    },
    {
      "cell_type": "code",
      "metadata": {
        "id": "c-nL6boEN-4l",
        "colab_type": "code",
        "colab": {}
      },
      "source": [
        "import numpy as np\n",
        "import pandas as pd\n",
        "import matplotlib.pyplot as plt"
      ],
      "execution_count": 0,
      "outputs": []
    },
    {
      "cell_type": "code",
      "metadata": {
        "id": "PwGojE5yPVh9",
        "colab_type": "code",
        "colab": {}
      },
      "source": [
        "def simulated_annealing(X, E, \n",
        "                        T0=5.9, T_decay=lambda T, a: T - a, \n",
        "                        alpha=0.01, max_time=15000, \n",
        "                        g='random', p=None, \n",
        "                        g_function=None, alpha_decay=None):\n",
        "  \"\"\"\n",
        "  X - sample space\n",
        "  E - energy function (computable function), also can be understood as Y\n",
        "  -----------------\n",
        "  'predefined':\n",
        "  T0 - initial temperature\n",
        "  T_decay - temperature anneal rule (alpha < 1), works well if small, \n",
        "    thus the difference between epochs of P function will be higher. (for rule `T - a`)\n",
        "  alpha - decay of temperature, \n",
        "    works well when small (if rule is `T - a`)\n",
        "  alpha_decay: f(alpha, t) - function defines decay rule for alpha depending on iteration\n",
        "  max_time - maximum amount of iterations (t)\n",
        "  -----------------\n",
        "  Hyper features\n",
        "  g - sampling strategy: \n",
        "    - random: random sample from sample space\n",
        "    - close: neighbour sample \n",
        "  g_function: user-defined sampling function\n",
        "    - should take a form of `lambda X, sample: f(X, sample)` - return item of sample shape\n",
        "  -----------------\n",
        "  p - energy distribution function, needs to be manually defined\n",
        "    - None -> test distribution will be used\n",
        "    - should take a form of `lambda x, E, T: f(E(x), T)` \n",
        "  \"\"\"\n",
        "\n",
        "  def _g_radnom(X, x_old):\n",
        "    return np.random.choice(X)\n",
        "\n",
        "  def default_proportional_function(x, E, T):\n",
        "    return np.exp(-E(x) / T)\n",
        "\n",
        "  if p is None:\n",
        "    p = default_proportional_function\n",
        "\n",
        "  if g_function is not None:\n",
        "    g = g_function\n",
        "  elif g == 'random':\n",
        "    g = _g_radnom\n",
        "\n",
        "  T = T0\n",
        "  distributions = []\n",
        "  # xt \\equiv $x_t$, xt_ \\equiv $x_{t+1}$\n",
        "  xt = g(X, X[0])\n",
        "  positions = [xt]\n",
        "  \n",
        "  p1 = p(xt, E, T)\n",
        "  for t in range(max_time):\n",
        "    p2 = p1\n",
        "    xt_ = g(X, xt)\n",
        "    p1 = p(xt_, E, T)\n",
        "\n",
        "    ratio = p1 / p2\n",
        "\n",
        "    u = np.random.uniform()\n",
        "    if t % 100 == 0:\n",
        "      distributions += [p(X, E, T)]\n",
        "\n",
        "    if u <= ratio: # accept x'\n",
        "      xt = xt_\n",
        "      T = T_decay(T, alpha)\n",
        "\n",
        "    positions += [xt]\n",
        "\n",
        "    if alpha_decay is not None:\n",
        "      alpha = alpha_decay(alpha, t)\n",
        "\n",
        "    if T < 1e-6 or T < 0:\n",
        "      break\n",
        "\n",
        "  print(f'SA took {t} steps, final temperature = {T}')\n",
        "  return xt_, np.array(positions), np.array(distributions)"
      ],
      "execution_count": 0,
      "outputs": []
    },
    {
      "cell_type": "code",
      "metadata": {
        "id": "LH3-dv8fvNh0",
        "colab_type": "code",
        "colab": {}
      },
      "source": [
        "w = np.array([0.13511111, 0.30565641, 0.85789735, 0.19849365, 0.0972464 ])\n",
        "phi = np.array([0.76633178, 0.07614028, 0.57433697, 2.05374239, 1.97379992])\n",
        "a = np.array([12.80479424,  1.57398667,  1.46134803,  4.93294448,  4.12038971])\n",
        "h = np.vectorize(lambda x: sum(np.cos(x * a + phi) * w))"
      ],
      "execution_count": 0,
      "outputs": []
    },
    {
      "cell_type": "code",
      "metadata": {
        "id": "t_fyd1P1vOiT",
        "colab_type": "code",
        "colab": {
          "base_uri": "https://localhost:8080/",
          "height": 282
        },
        "outputId": "3e83168d-d057-405e-af41-3eb6eaa47c4d"
      },
      "source": [
        "\n",
        "X = np.linspace(-3, 3, 300)\n",
        "y = h(X)\n",
        "plt.plot(X, y)"
      ],
      "execution_count": 371,
      "outputs": [
        {
          "output_type": "execute_result",
          "data": {
            "text/plain": [
              "[<matplotlib.lines.Line2D at 0x7f86259ed828>]"
            ]
          },
          "metadata": {
            "tags": []
          },
          "execution_count": 371
        },
        {
          "output_type": "display_data",
          "data": {
            "image/png": "[encoded data removed]",
            "text/plain": [
              "<Figure size 432x288 with 1 Axes>"
            ]
          },
          "metadata": {
            "tags": []
          }
        }
      ]
    },
    {
      "cell_type": "code",
      "metadata": {
        "id": "oCf3K_3mvPlo",
        "colab_type": "code",
        "colab": {
          "base_uri": "https://localhost:8080/",
          "height": 282
        },
        "outputId": "6fdb5341-0629-481e-8020-5ab9098eed89"
      },
      "source": [
        "y2 = np.exp(-h(X) / 5.5) \n",
        "plt.plot(X, y2)"
      ],
      "execution_count": 372,
      "outputs": [
        {
          "output_type": "execute_result",
          "data": {
            "text/plain": [
              "[<matplotlib.lines.Line2D at 0x7f86259cd470>]"
            ]
          },
          "metadata": {
            "tags": []
          },
          "execution_count": 372
        },
        {
          "output_type": "display_data",
          "data": {
            "image/png": "[encoded data removed]",
            "text/plain": [
              "<Figure size 432x288 with 1 Axes>"
            ]
          },
          "metadata": {
            "tags": []
          }
        }
      ]
    },
    {
      "cell_type": "code",
      "metadata": {
        "id": "mdZmltBF9mNS",
        "colab_type": "code",
        "colab": {
          "base_uri": "https://localhost:8080/",
          "height": 282
        },
        "outputId": "c70d09f5-a1a0-4ee4-d6d9-95fb368190ba"
      },
      "source": [
        "x_good, positions, distributions = simulated_annealing(X, h, T0=5.5, alpha=0.01)\n",
        "for i in range(len(distributions[:-2])):\n",
        "  plt.plot(X, distributions[i])"
      ],
      "execution_count": 382,
      "outputs": [
        {
          "output_type": "stream",
          "text": [
            "SA took 662 steps, final temperature = 7.296593884653646e-14\n"
          ],
          "name": "stdout"
        },
        {
          "output_type": "display_data",
          "data": {
            "image/png": "[encoded data removed]",
            "text/plain": [
              "<Figure size 432x288 with 1 Axes>"
            ]
          },
          "metadata": {
            "tags": []
          }
        }
      ]
    },
    {
      "cell_type": "code",
      "metadata": {
        "id": "FvWjaN5eFwE5",
        "colab_type": "code",
        "colab": {}
      },
      "source": [
        ""
      ],
      "execution_count": 0,
      "outputs": []
    },
    {
      "cell_type": "code",
      "metadata": {
        "id": "y6Vgn3phEVki",
        "colab_type": "code",
        "colab": {
          "base_uri": "https://localhost:8080/",
          "height": 276
        },
        "outputId": "5b239a18-4ad5-41db-d85e-9b8fc68c4f58"
      },
      "source": [
        "N = len(distributions)\n",
        "for i in range(min(10, N)):\n",
        "  plt.plot(X, distributions[i])"
      ],
      "execution_count": 137,
      "outputs": [
        {
          "output_type": "display_data",
          "data": {
            "image/png": "[encoded data removed]",
            "text/plain": [
              "<Figure size 432x288 with 1 Axes>"
            ]
          },
          "metadata": {
            "tags": []
          }
        }
      ]
    },
    {
      "cell_type": "markdown",
      "metadata": {
        "id": "q6I-nKehUwbU",
        "colab_type": "text"
      },
      "source": [
        "# Task 1. Iris dataset\n",
        "\n",
        "A feedforward neural network can utilize simulated annealing to learn a classifier for the Iris data set.\n",
        "\n",
        "1. Download Iris Dataset\n",
        "2. Define a Feed Forward NN (using your favorite framework)\n",
        "3. Fit the neural network using simulated annealing as an optimization method (as sampling could be slow in high dimensional spaces, use fewer hidden layers or neurons)\n",
        "4. Evaluate results, try different annealing rates\n",
        "5. Compare to the results (speed, performance) obtained via backpropagation\n",
        "6. Write a report about your findings\n"
      ]
    },
    {
      "cell_type": "code",
      "metadata": {
        "id": "XJXOAYCeGSHJ",
        "colab_type": "code",
        "colab": {}
      },
      "source": [
        "import pandas as pd\n",
        "import sklearn\n",
        "import sklearn.datasets\n",
        "from sklearn.model_selection import train_test_split\n",
        "from sklearn import preprocessing"
      ],
      "execution_count": 0,
      "outputs": []
    },
    {
      "cell_type": "code",
      "metadata": {
        "id": "2ei928_pUr_H",
        "colab_type": "code",
        "colab": {}
      },
      "source": [
        "import torch\n",
        "import torch.nn as nn\n",
        "import torch.nn.functional as F\n",
        "from torch.autograd import Variable\n",
        "from sklearn.metrics import accuracy_score, precision_score, recall_score\n",
        "\n",
        "class GaussianSampler:\n",
        "  def __init__(self, mu=0., std=1., cuda=False):\n",
        "    self.mu = mu\n",
        "    self.std = std\n",
        "    self.cuda = cuda\n",
        "\n",
        "  def sample(self, shape):\n",
        "    return torch.FloatTensor(*shape).normal_(self.mu, self.std) \\\n",
        "     if not self.cuda else torch.cuda.FloatTensor.normal_(self.mu, self.std)\n",
        "\n",
        "class UniformSampler:\n",
        "  def __init__(self, minval=-0.5, maxval=0.5, cuda=False):\n",
        "    self.minval = minval\n",
        "    self.maxval = maxval\n",
        "    self.cuda = cuda\n",
        "\n",
        "  def sample(self, shape):\n",
        "    return torch.FloatTensor(*shape).uniform_(self.minval, self.maxval) \\\n",
        "     if not self.cuda else torch.cuda.FloatTensor.uniform_(self.minval, self.maxval)\n",
        "\n",
        "\n",
        "class IrisNet(nn.Module):\n",
        "    def __init__(self):\n",
        "        super(IrisNet, self).__init__()\n",
        "        self.fc1 = nn.Linear(4, 50)\n",
        "        self.fc2 = nn.Linear(50, 50)\n",
        "        self.fc3 = nn.Linear(50, 3)\n",
        "        self.softmax = nn.Softmax(dim=1)\n",
        "        self.apply(self.init_weights)\n",
        "\n",
        "    def forward(self, X):\n",
        "        X = F.relu(self.fc1(X))\n",
        "        X = self.fc2(X)\n",
        "        X = self.fc3(X)\n",
        "        X = self.softmax(X)\n",
        "\n",
        "        return X\n",
        "    \n",
        "    def fit(self, X_train, X_test, Y_train, Y_test, sampler=GaussianSampler(0., 1.), \n",
        "            T0=5.9, alpha=1e-2, T_decay=lambda T,a: T-a, alpha_decay=None):\n",
        "      params = [\n",
        "                self.fc1.weight,\n",
        "                self.fc2.weight,\n",
        "                self.fc3.weight,\n",
        "                self.fc1.bias,\n",
        "                self.fc2.bias,\n",
        "                self.fc3.bias\n",
        "      ]\n",
        "\n",
        "      X_train, X_test = map(lambda x: torch.tensor(x).type(torch.FloatTensor), \n",
        "                                             (X_train.values, X_test.values))\n",
        "      Y_train, Y_test = map(lambda x: torch.tensor(x).type(torch.LongTensor).squeeze(), \n",
        "                                             (Y_train.values, Y_test.values))\n",
        "\n",
        "      loss = nn.CrossEntropyLoss()\n",
        "      def energy_function_train(X):\n",
        "        train_output = self(X_train)\n",
        "        train_loss = loss(train_output, Y_train)\n",
        "        return train_loss\n",
        "\n",
        "      def g(X, *args):\n",
        "        for i in range(len(X)):\n",
        "          X[i].data += sampler.sample(X[i].data.shape)\n",
        "        return X\n",
        "\n",
        "      def p(x, E, T):\n",
        "        return torch.exp(-E(x) / T)\n",
        "\n",
        "      # train\n",
        "      simulated_annealing(params, energy_function_train, g_function=g, p=p, T0=T0, \n",
        "                                           alpha=alpha, T_decay=T_decay, alpha_decay=alpha_decay)\n",
        "\n",
        "      # test\n",
        "      test_output = self(X_test)\n",
        "      test_loss = loss(test_output, Y_test)\n",
        "      print(f'Test loss : {test_loss:.4f}')\n",
        "\n",
        "      _, predict_y = torch.max(test_output, 1)\n",
        "      print(f'prediction accuracy: {accuracy_score(Y_test.data, predict_y.data)}')\n",
        "\n",
        "      print(f'macro precision: {precision_score(Y_test.data, predict_y.data, average=\"macro\")}')\n",
        "      print(f'micro precision: {precision_score(Y_test.data, predict_y.data, average=\"micro\")}')\n",
        "      print(f'macro recall: {recall_score(Y_test.data, predict_y.data, average=\"macro\")}')\n",
        "      print(f'micro recall: {recall_score(Y_test.data, predict_y.data, average=\"micro\")}')\n",
        "\n",
        "    def init_weights(self, m):\n",
        "        if type(m) == nn.Linear:\n",
        "            torch.nn.init.xavier_uniform(m.weight)\n",
        "            m.bias.data.fill_(np.random.uniform())\n",
        "\n",
        "    \n",
        "    def fit_sgd(self, X_train, X_test, Y_train, Y_test):\n",
        "      loss = nn.CrossEntropyLoss()\n",
        "      optimizer = torch.optim.SGD(self.parameters(), lr=0.01)\n",
        "\n",
        "      X_train, X_test = map(lambda x: torch.tensor(x).type(torch.FloatTensor), \n",
        "                                             (X_train.values, X_test.values))\n",
        "      Y_train, Y_test = map(lambda x: torch.tensor(x).type(torch.LongTensor).squeeze(), \n",
        "                                             (Y_train.values, Y_test.values))\n",
        "\n",
        "      for epoch in range(1000):\n",
        "        optimizer.zero_grad()\n",
        "        out = self(X_train)\n",
        "        _loss = loss(out, Y_train)\n",
        "        _loss.backward()\n",
        "        optimizer.step()\n",
        "        \n",
        "        if epoch % 100 == 0:\n",
        "          print(f'number of epoch: {epoch}, loss: {_loss}')\n",
        "\n",
        "      test_output = self(X_test)\n",
        "      test_loss = loss(test_output, Y_test)\n",
        "      print(f'Test loss : {test_loss:.4f}')\n",
        "\n",
        "      _, predict_y = torch.max(test_output, 1)\n",
        "      _, predict_y = torch.max(test_output, 1)\n",
        "      print(f'prediction accuracy: {accuracy_score(Y_test.data, predict_y.data)}')\n",
        "\n",
        "      print(f'macro precision: {precision_score(Y_test.data, predict_y.data, average=\"macro\")}')\n",
        "      print(f'micro precision: {precision_score(Y_test.data, predict_y.data, average=\"micro\")}')\n",
        "      print(f'macro recall: {recall_score(Y_test.data, predict_y.data, average=\"macro\")}')\n",
        "      print(f'micro recall: {recall_score(Y_test.data, predict_y.data, average=\"micro\")}')\n",
        "\n",
        "\n"
      ],
      "execution_count": 0,
      "outputs": []
    },
    {
      "cell_type": "code",
      "metadata": {
        "id": "kTZ8cmCwHadJ",
        "colab_type": "code",
        "colab": {}
      },
      "source": [
        "iris = sklearn.datasets.load_iris()\n",
        "X, Y = iris.data, iris.target\n",
        "\n",
        "scaler = preprocessing.StandardScaler()\n",
        "\n",
        "X = pd.DataFrame(scaler.fit_transform(X))\n",
        "Y = pd.DataFrame(Y.reshape(-1))\n",
        "X_train, X_test, Y_train, Y_test = train_test_split(X, Y)"
      ],
      "execution_count": 0,
      "outputs": []
    },
    {
      "cell_type": "code",
      "metadata": {
        "id": "ZnL7PB6p0ahu",
        "colab_type": "code",
        "colab": {}
      },
      "source": [
        "from time import time\n",
        "def alpha_decay(a, iteration):\n",
        "  if iteration % 500 == 0:\n",
        "    return a * 0.95\n",
        "  return a"
      ],
      "execution_count": 0,
      "outputs": []
    },
    {
      "cell_type": "code",
      "metadata": {
        "id": "6G4oQErHIQZa",
        "colab_type": "code",
        "colab": {
          "base_uri": "https://localhost:8080/",
          "height": 170
        },
        "outputId": "dfeefed4-9594-4149-ceb8-533233b2ffab"
      },
      "source": [
        "net = IrisNet()\n",
        "t1 = time()\n",
        "net.fit(X_train, X_test, Y_train, Y_test, T0=20000.0, alpha=4.5, alpha_decay=alpha_decay, T_decay=lambda T, a: T-a, sampler=UniformSampler(-1, 1))\n",
        "t2 = time() - t1\n",
        "print(f\"SA with uniform sampling took {t2:.3f} seconds\")"
      ],
      "execution_count": 349,
      "outputs": [
        {
          "output_type": "stream",
          "text": [
            "/usr/local/lib/python3.6/dist-packages/ipykernel_launcher.py:92: UserWarning: nn.init.xavier_uniform is now deprecated in favor of nn.init.xavier_uniform_.\n"
          ],
          "name": "stderr"
        },
        {
          "output_type": "stream",
          "text": [
            "SA took 6150 steps, final temperature = -0.6121586356881892\n",
            "Test loss : 1.1304\n",
            "prediction accuracy: 0.42105263157894735\n",
            "macro precision: 0.3680555555555555\n",
            "micro precision: 0.42105263157894735\n",
            "macro recall: 0.40740740740740744\n",
            "micro recall: 0.42105263157894735\n",
            "SA with uniform sampling took 2.812 seconds\n"
          ],
          "name": "stdout"
        }
      ]
    },
    {
      "cell_type": "code",
      "metadata": {
        "id": "3kdKZmkruBlD",
        "colab_type": "code",
        "colab": {
          "base_uri": "https://localhost:8080/",
          "height": 170
        },
        "outputId": "88a7841d-216c-40a4-afbb-8a395786e9d6"
      },
      "source": [
        "net = IrisNet()\n",
        "t1 = time()\n",
        "net.fit(X_train, X_test, Y_train, Y_test, T0=4000.0, alpha=1.5, alpha_decay=alpha_decay, T_decay=lambda T, a: T-a, sampler=GaussianSampler(0, 3))\n",
        "t2 = time() - t1\n",
        "print(f\"SA with gaussian sampling took {t2:.3f} seconds\")"
      ],
      "execution_count": 352,
      "outputs": [
        {
          "output_type": "stream",
          "text": [
            "/usr/local/lib/python3.6/dist-packages/ipykernel_launcher.py:92: UserWarning: nn.init.xavier_uniform is now deprecated in favor of nn.init.xavier_uniform_.\n"
          ],
          "name": "stderr"
        },
        {
          "output_type": "stream",
          "text": [
            "SA took 3216 steps, final temperature = -0.6068306399342867\n",
            "Test loss : 0.8146\n",
            "prediction accuracy: 0.7368421052631579\n",
            "macro precision: 0.6749999999999999\n",
            "micro precision: 0.7368421052631579\n",
            "macro recall: 0.6576719576719577\n",
            "micro recall: 0.7368421052631579\n",
            "SA with gaussian sampling took 1.530 seconds\n"
          ],
          "name": "stdout"
        }
      ]
    },
    {
      "cell_type": "code",
      "metadata": {
        "id": "eDiEbCXW_GIv",
        "colab_type": "code",
        "colab": {
          "base_uri": "https://localhost:8080/",
          "height": 323
        },
        "outputId": "e6e843e7-acfb-4a0b-848e-ba16f77d3fd9"
      },
      "source": [
        "net = IrisNet()\n",
        "t1 = time()\n",
        "net.fit_sgd(X_train, X_test, Y_train, Y_test)\n",
        "t2 = time() - t1\n",
        "print(f\"Adam took {t2:.3f} seconds\")"
      ],
      "execution_count": 367,
      "outputs": [
        {
          "output_type": "stream",
          "text": [
            "/usr/local/lib/python3.6/dist-packages/ipykernel_launcher.py:92: UserWarning: nn.init.xavier_uniform is now deprecated in favor of nn.init.xavier_uniform_.\n"
          ],
          "name": "stderr"
        },
        {
          "output_type": "stream",
          "text": [
            "number of epoch: 0, loss: 1.1731263399124146\n",
            "number of epoch: 100, loss: 0.8148313164710999\n",
            "number of epoch: 200, loss: 0.7353492379188538\n",
            "number of epoch: 300, loss: 0.6973614692687988\n",
            "number of epoch: 400, loss: 0.6718880534172058\n",
            "number of epoch: 500, loss: 0.6531397104263306\n",
            "number of epoch: 600, loss: 0.6389303803443909\n",
            "number of epoch: 700, loss: 0.628016471862793\n",
            "number of epoch: 800, loss: 0.6195135712623596\n",
            "number of epoch: 900, loss: 0.6127857565879822\n",
            "Test loss : 0.6538\n",
            "prediction accuracy: 0.9210526315789473\n",
            "macro precision: 0.9076923076923077\n",
            "micro precision: 0.9210526315789473\n",
            "macro recall: 0.9153439153439153\n",
            "micro recall: 0.9210526315789473\n",
            "Adam took 0.774 seconds\n"
          ],
          "name": "stdout"
        }
      ]
    },
    {
      "cell_type": "markdown",
      "metadata": {
        "id": "_7Om45sL74uD",
        "colab_type": "text"
      },
      "source": [
        "## Task 1 analysis\n",
        "\n",
        "0) Algorithm adds a random noise (either Gaussian or Uniform) to weights of the network, thus updates the energy function.   \n",
        "1) Gaussian sampler provides better results than UniformSampler (see `sampler`)  \n",
        "2) More aggressive weights' update leads to better loss & precision rates (not only `uniform(-1, 1)` , but `N(0, 3)`)  \n",
        "3) Linear decay (T - a) of temperature works stable & converges other than geometric decay (T * a) (see `T_decay` lambda function).  \n",
        "4) Adding alpha decay improved results in case of long runs (see `alpha_decay`)   \n",
        "5) Best results are achieved by\n",
        "```\n",
        "T0=4000.0, \n",
        "alpha=1.5, \n",
        "alpha_decay=lambda a, t: a * 0.95 if t % 500 == 0 else a, \n",
        "T_decay=lambda T, a: T-a, \n",
        "sampler=GaussianSampler(0, 3))\n",
        "```\n",
        "Results: \n",
        "```\n",
        "SA took 3216 steps, final temperature = -0.6068306399342867\n",
        "Test loss : 0.8409\n",
        "prediction accuracy: 0.7105263157894737\n",
        "macro precision: 0.8166666666666668\n",
        "micro precision: 0.7105263157894737\n",
        "macro recall: 0.7380952380952381\n",
        "micro recall: 0.7105263157894737\n",
        "```\n",
        "6) Average accuracy is 40%, when `UniformSampler(-1, 1)` is used.  \n",
        "7) Average time `SA + Uniform` = **2.75sec**, Average time `SA + Gaussian` = **1.48 sec**.   \n",
        "Thus Gaussian converges faster than Uniform and has better results.    \n",
        "8) SGD: \n",
        "- 1000 epochs  \n",
        "- lr=0.01  \n",
        "- no complex decay policies   \n",
        "\n",
        "```\n",
        "Test loss : 0.6538\n",
        "prediction accuracy: 0.9210526315789473\n",
        "macro precision: 0.9076923076923077\n",
        "micro precision: 0.9210526315789473\n",
        "macro recall: 0.9153439153439153\n",
        "micro recall: 0.9210526315789473\n",
        "Adam took 0.774 seconds\n",
        "```"
      ]
    },
    {
      "cell_type": "code",
      "metadata": {
        "id": "LWWib95SBlgz",
        "colab_type": "code",
        "colab": {}
      },
      "source": [
        ""
      ],
      "execution_count": 0,
      "outputs": []
    }
  ]
}